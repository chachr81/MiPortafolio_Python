{
 "cells": [
  {
   "cell_type": "code",
   "execution_count": 6,
   "metadata": {},
   "outputs": [
    {
     "name": "stdout",
     "output_type": "stream",
     "text": [
      "636172.512351933\n"
     ]
    }
   ],
   "source": [
    "# Calculada con radio por el usuario\n",
    "\n",
    "import math \n",
    "\n",
    "r = int(input())\n",
    "pi = math.pi\n",
    "area_of_cirle = (pi * math.pow(r, 2))\n",
    "print(area_of_cirle)"
   ]
  },
  {
   "cell_type": "code",
   "execution_count": 5,
   "metadata": {},
   "outputs": [
    {
     "name": "stdout",
     "output_type": "stream",
     "text": [
      "Christian Chacon Venezuela 40\n"
     ]
    }
   ],
   "source": [
    "# Guardar datos de usuario\n",
    "\n",
    "name = input('Introduzca su nombre: ')\n",
    "last_name = input('Introduzca su apellido: ')\n",
    "country = input('Introduzca su pais: ')\n",
    "age = int(input('Introduzca su edad: '))\n",
    "print (name, last_name, country, age)"
   ]
  }
 ],
 "metadata": {
  "kernelspec": {
   "display_name": "Python 3.10.8 64-bit",
   "language": "python",
   "name": "python3"
  },
  "language_info": {
   "codemirror_mode": {
    "name": "ipython",
    "version": 3
   },
   "file_extension": ".py",
   "mimetype": "text/x-python",
   "name": "python",
   "nbconvert_exporter": "python",
   "pygments_lexer": "ipython3",
   "version": "3.10.8"
  },
  "orig_nbformat": 4,
  "vscode": {
   "interpreter": {
    "hash": "26de051ba29f2982a8de78e945f0abaf191376122a1563185a90213a26c5da77"
   }
  }
 },
 "nbformat": 4,
 "nbformat_minor": 2
}
