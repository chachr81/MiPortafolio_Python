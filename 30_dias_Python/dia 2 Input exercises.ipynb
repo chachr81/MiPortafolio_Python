{
 "cells": [
  {
   "cell_type": "code",
   "execution_count": 6,
   "metadata": {},
   "outputs": [
    {
     "name": "stdout",
     "output_type": "stream",
     "text": [
      "636172.512351933\n"
     ]
    }
   ],
   "source": [
    "# Calculada con radio por el usuario\n",
    "\n",
    "import math \n",
    "\n",
    "r = int(input())\n",
    "pi = math.pi\n",
    "area_of_cirle = (pi * math.pow(r, 2))\n",
    "print(area_of_cirle)"
   ]
  },
  {
   "cell_type": "code",
   "execution_count": 5,
   "metadata": {},
   "outputs": [
    {
     "name": "stdout",
     "output_type": "stream",
     "text": [
      "Christian Chacon Venezuela 40\n"
     ]
    }
   ],
   "source": [
    "# Guardar datos de usuario\n",
    "\n",
    "name = input('Introduzca su nombre: ')\n",
    "last_name = input('Introduzca su apellido: ')\n",
    "country = input('Introduzca su pais: ')\n",
    "age = int(input('Introduzca su edad: '))\n",
    "print (name, last_name, country, age)"
   ]
  }
 ],
 "metadata": {
  "kernelspec": {
   "display_name": "Python 3.7.9 64-bit",
   "language": "python",
   "name": "python3"
  },
  "language_info": {
   "codemirror_mode": {
    "name": "ipython",
    "version": 3
   },
   "file_extension": ".py",
   "mimetype": "text/x-python",
   "name": "python",
   "nbconvert_exporter": "python",
   "pygments_lexer": "ipython3",
   "version": "3.7.9"
  },
  "orig_nbformat": 4,
  "vscode": {
   "interpreter": {
    "hash": "232dcb3c7e882f68d9ee3637073d789ebbb17575c70614130f9a8dbed7e93a10"
   }
  }
 },
 "nbformat": 4,
 "nbformat_minor": 2
}
