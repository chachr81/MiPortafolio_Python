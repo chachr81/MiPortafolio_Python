{
 "cells": [
  {
   "cell_type": "code",
   "execution_count": 8,
   "metadata": {},
   "outputs": [
    {
     "name": "stdout",
     "output_type": "stream",
     "text": [
      "El area del triangulo es:  128.33520000000001\n"
     ]
    }
   ],
   "source": [
    "# Calculo del área de un triangulo\n",
    "\n",
    "h = float(input('Introduzca el valor de la altura: ', ))\n",
    "b = float(input('Introduzca el valor de la base: ', ))\n",
    "area = float(0.5 * b * h)\n",
    "print('El area del triangulo es: ', area)"
   ]
  },
  {
   "cell_type": "code",
   "execution_count": 9,
   "metadata": {},
   "outputs": [
    {
     "name": "stdout",
     "output_type": "stream",
     "text": [
      "El perimetro del triangulo es:  25\n"
     ]
    }
   ],
   "source": [
    "# Calculo del perimetro de un triangulo\n",
    "\n",
    "a = int(input('Introduzca el valor del lado a: ', ))\n",
    "b = int(input('Introduzca el valor del lado b: ', ))\n",
    "c = int(input('Introduzca el valor del lado c: ', ))\n",
    "perimetro = a + b + c\n",
    "print('El perimetro del triangulo es: ', perimetro)"
   ]
  },
  {
   "cell_type": "code",
   "execution_count": 12,
   "metadata": {},
   "outputs": [
    {
     "name": "stdout",
     "output_type": "stream",
     "text": [
      "El área del rectangulo es:  218.7\n"
     ]
    }
   ],
   "source": [
    "# Calculo del área de un rectangulo\n",
    "\n",
    "br = float(input('Introduzca el valor de la base: ', ))\n",
    "hr = float(input('Introduzca el valor de la altura: ', ))\n",
    "area_r = br * hr\n",
    "print('El área del rectangulo es: ', area_r)"
   ]
  },
  {
   "cell_type": "code",
   "execution_count": 14,
   "metadata": {},
   "outputs": [
    {
     "name": "stdout",
     "output_type": "stream",
     "text": [
      "El perimetro del rectangulo es:  480.5\n"
     ]
    }
   ],
   "source": [
    "# Calculo del perimetro de un ractangulo\n",
    "\n",
    "b = float(input('Introduzca el valor de la base: ', ))\n",
    "h = float(input('Introduzca el valor de la altura: ', ))\n",
    "perimetro_r = 2 * b * h\n",
    "print('El perimetro del rectangulo es: ', perimetro_r)"
   ]
  },
  {
   "cell_type": "code",
   "execution_count": 20,
   "metadata": {},
   "outputs": [
    {
     "name": "stdout",
     "output_type": "stream",
     "text": [
      "El área del circulo es:  28.274333882308138\n",
      "La circunferencia del circulo es:  18.84955592153876\n"
     ]
    }
   ],
   "source": [
    "# Calculo de área y circunferencia definido por el usuario\n",
    "\n",
    "import math \n",
    "\n",
    "r = float(input('Introduzca el valor del radio', ))\n",
    "pi = math.pi\n",
    "area_of_cirle = (pi * math.pow(r, 2))\n",
    "c = ((2 * pi * r))\n",
    "print('El área del circulo es: ', area_of_cirle)\n",
    "print('La circunferencia del circulo es: ', c)"
   ]
  },
  {
   "cell_type": "code",
   "execution_count": 21,
   "metadata": {},
   "outputs": [
    {
     "name": "stdout",
     "output_type": "stream",
     "text": [
      "Valor de pendiente intercepta y es:  4.0\n"
     ]
    }
   ],
   "source": [
    "# Calculo de pendiente interceptada en Y definido por el usuario\n",
    "\n",
    "x = float(input('Introduzca valor de x: ', ))\n",
    "m = 2\n",
    "y = m*x-2\n",
    "print('Valor de pendiente intercepta y es: ', y)"
   ]
  },
  {
   "cell_type": "code",
   "execution_count": 23,
   "metadata": {},
   "outputs": [
    {
     "name": "stdout",
     "output_type": "stream",
     "text": [
      "El valor de la pendiente es:  -4.2\n",
      "El valor de la distancia euclidiana es:  8.94427190999916\n"
     ]
    }
   ],
   "source": [
    "# Calculo de pendiente y distancia euclidiana\n",
    "\n",
    "import math \n",
    "\n",
    "y1 = 2\n",
    "y2 = 2\n",
    "x1 = 6\n",
    "x2 = 10\n",
    "m = y2-y1/x2-x1\n",
    "x = ((x1 - y1) ** 2)\n",
    "y = ((x2 - y2) ** 2)\n",
    "xy = x + y\n",
    "dE = math.sqrt(xy)\n",
    "print('El valor de la pendiente es: ', m)\n",
    "print('El valor de la distancia euclidiana es: ', dE) "
   ]
  },
  {
   "cell_type": "code",
   "execution_count": 25,
   "metadata": {},
   "outputs": [
    {
     "name": "stdout",
     "output_type": "stream",
     "text": [
      "False\n"
     ]
    }
   ],
   "source": [
    "print(len('Python') != len('Dragon')) "
   ]
  },
  {
   "cell_type": "code",
   "execution_count": 28,
   "metadata": {},
   "outputs": [
    {
     "name": "stdout",
     "output_type": "stream",
     "text": [
      "True\n"
     ]
    }
   ],
   "source": [
    "sentence = 'I hope this course is not full of jargon'\n",
    "word = 'jargon'\n",
    "print(word in sentence)"
   ]
  },
  {
   "cell_type": "code",
   "execution_count": 39,
   "metadata": {},
   "outputs": [
    {
     "name": "stdout",
     "output_type": "stream",
     "text": [
      "6\n",
      "6.0\n"
     ]
    }
   ],
   "source": [
    "w = 'python'\n",
    "print(str(len(w)))\n",
    "print(float(len(w)))"
   ]
  },
  {
   "cell_type": "code",
   "execution_count": 40,
   "metadata": {},
   "outputs": [
    {
     "name": "stdout",
     "output_type": "stream",
     "text": [
      "El número es impar\n"
     ]
    }
   ],
   "source": [
    "numero = int(input(\"Ingresa un número: \"))\n",
    "if numero % 2 == 0:\n",
    "    print(\"El número es par\")\n",
    "else:\n",
    "    print(\"El número es impar\")"
   ]
  },
  {
   "cell_type": "code",
   "execution_count": 45,
   "metadata": {},
   "outputs": [
    {
     "name": "stdout",
     "output_type": "stream",
     "text": [
      "El número no es igual\n"
     ]
    }
   ],
   "source": [
    "float = 7 / 3\n",
    "if float == int(2.3):\n",
    "    print(\"El número es igual\")\n",
    "else:\n",
    "    print(\"El número no es igual\")"
   ]
  },
  {
   "cell_type": "code",
   "execution_count": 46,
   "metadata": {},
   "outputs": [
    {
     "name": "stdout",
     "output_type": "stream",
     "text": [
      "False\n"
     ]
    }
   ],
   "source": [
    "x = '10'\n",
    "print(type(x) == 10)"
   ]
  },
  {
   "cell_type": "code",
   "execution_count": 47,
   "metadata": {},
   "outputs": [
    {
     "name": "stdout",
     "output_type": "stream",
     "text": [
      "False\n"
     ]
    }
   ],
   "source": [
    "x = int(9.8)\n",
    "print(type(x) == 10)"
   ]
  },
  {
   "cell_type": "code",
   "execution_count": 51,
   "metadata": {},
   "outputs": [
    {
     "name": "stdout",
     "output_type": "stream",
     "text": [
      "El salario a cobrar:  1597500\n"
     ]
    }
   ],
   "source": [
    "# Calculo de renta laboral\n",
    "\n",
    "hours = int(input('Introduzca el número de hora: ', ))\n",
    "rate = int(input('Introduzca la tarifa por hora: ', ))\n",
    "salary = rate * hours\n",
    "print('El salario a cobrar: ', salary)"
   ]
  },
  {
   "cell_type": "code",
   "execution_count": 69,
   "metadata": {},
   "outputs": [
    {
     "name": "stdout",
     "output_type": "stream",
     "text": [
      "Usted ha vivido:  1104516000\n"
     ]
    }
   ],
   "source": [
    "# Calculo de segundos vividos\n",
    "\n",
    "year = int(input('Introduzca los años de vida: ', ))\n",
    "secondsxyear = 31557600\n",
    "secondslived = year * secondsxyear\n",
    "print('Usted ha vivido: ', secondslived)"
   ]
  },
  {
   "cell_type": "code",
   "execution_count": 68,
   "metadata": {},
   "outputs": [
    {
     "name": "stdout",
     "output_type": "stream",
     "text": [
      "1 1 1 1 1\n",
      "2 1 2 4 8\n",
      "3 1 3 9 27\n",
      "4 1 4 16 64\n",
      "5 1 5 25 125\n"
     ]
    }
   ],
   "source": [
    "# Formatear una lista\n",
    "for number in range(1, 6):\n",
    "    exponencial = number ** 2\n",
    "    print(number, 1, number * 1, number * number, number * exponencial)"
   ]
  }
 ],
 "metadata": {
  "kernelspec": {
   "display_name": "Python 3.10.8 64-bit",
   "language": "python",
   "name": "python3"
  },
  "language_info": {
   "codemirror_mode": {
    "name": "ipython",
    "version": 3
   },
   "file_extension": ".py",
   "mimetype": "text/x-python",
   "name": "python",
   "nbconvert_exporter": "python",
   "pygments_lexer": "ipython3",
   "version": "3.10.8"
  },
  "orig_nbformat": 4,
  "vscode": {
   "interpreter": {
    "hash": "26de051ba29f2982a8de78e945f0abaf191376122a1563185a90213a26c5da77"
   }
  }
 },
 "nbformat": 4,
 "nbformat_minor": 2
}
